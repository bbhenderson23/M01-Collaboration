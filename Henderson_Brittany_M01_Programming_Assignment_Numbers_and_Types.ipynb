{
 "cells": [
  {
   "cell_type": "code",
   "execution_count": 1,
   "id": "57574c33",
   "metadata": {},
   "outputs": [
    {
     "name": "stdout",
     "output_type": "stream",
     "text": [
      "3600\n"
     ]
    }
   ],
   "source": [
    "# 3.1\n",
    "seconds = 60\n",
    "minutes = 60\n",
    "        \n",
    "print(seconds * minutes)"
   ]
  },
  {
   "cell_type": "code",
   "execution_count": 2,
   "id": "7e83e241",
   "metadata": {},
   "outputs": [
    {
     "name": "stdout",
     "output_type": "stream",
     "text": [
      "3600\n"
     ]
    }
   ],
   "source": [
    "# 3.2\n",
    "seconds = 60\n",
    "minutes = 60\n",
    "seconds_per_hour = seconds * minutes\n",
    "\n",
    "print(seconds_per_hour)\n"
   ]
  },
  {
   "cell_type": "code",
   "execution_count": 5,
   "id": "c86adc48",
   "metadata": {},
   "outputs": [
    {
     "name": "stdout",
     "output_type": "stream",
     "text": [
      "86400\n"
     ]
    }
   ],
   "source": [
    "# 3.3\n",
    "seconds_per_hour * 24\n",
    "\n",
    "print(seconds_per_hour * 24)"
   ]
  },
  {
   "cell_type": "code",
   "execution_count": 6,
   "id": "dc867161",
   "metadata": {},
   "outputs": [
    {
     "name": "stdout",
     "output_type": "stream",
     "text": [
      "86400\n"
     ]
    }
   ],
   "source": [
    "# 3.4\n",
    "seconds_per_day = seconds_per_hour * 24\n",
    "print (seconds_per_day)"
   ]
  },
  {
   "cell_type": "code",
   "execution_count": 8,
   "id": "347766d8",
   "metadata": {},
   "outputs": [
    {
     "name": "stdout",
     "output_type": "stream",
     "text": [
      "24.0\n"
     ]
    }
   ],
   "source": [
    "# 3.5\n",
    "\n",
    "print(seconds_per_day / seconds_per_hour)"
   ]
  },
  {
   "cell_type": "code",
   "execution_count": 10,
   "id": "89a7819d",
   "metadata": {},
   "outputs": [
    {
     "name": "stdout",
     "output_type": "stream",
     "text": [
      "24\n"
     ]
    }
   ],
   "source": [
    "# 3.6\n",
    "\n",
    "print(seconds_per_day // seconds_per_hour)"
   ]
  },
  {
   "cell_type": "markdown",
   "id": "d06431ba",
   "metadata": {},
   "source": [
    "Yes, the numbers from 3.5 and 3.6 are the same. The answer in 3.5 is a decimal number, while the number from 3.6 is a truncated version of the same number from 3.5. "
   ]
  }
 ],
 "metadata": {
  "kernelspec": {
   "display_name": "Python 3 (ipykernel)",
   "language": "python",
   "name": "python3"
  },
  "language_info": {
   "codemirror_mode": {
    "name": "ipython",
    "version": 3
   },
   "file_extension": ".py",
   "mimetype": "text/x-python",
   "name": "python",
   "nbconvert_exporter": "python",
   "pygments_lexer": "ipython3",
   "version": "3.9.7"
  }
 },
 "nbformat": 4,
 "nbformat_minor": 5
}
